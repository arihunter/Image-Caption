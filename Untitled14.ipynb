{
  "nbformat": 4,
  "nbformat_minor": 0,
  "metadata": {
    "colab": {
      "name": "Untitled14.ipynb",
      "provenance": []
    },
    "kernelspec": {
      "name": "python3",
      "display_name": "Python 3"
    },
    "accelerator": "GPU"
  },
  "cells": [
    {
      "cell_type": "code",
      "metadata": {
        "id": "xD5Dc3bakSh7",
        "colab_type": "code",
        "colab": {}
      },
      "source": [
        "import numpy as np\n",
        "from numpy import array\n",
        "import pandas as pd\n",
        "import matplotlib.pyplot as plt\n",
        "%matplotlib inline\n",
        "import string\n",
        "import os\n",
        "from PIL import Image\n",
        "import glob\n",
        "from pickle import dump, load\n",
        "from time import time\n",
        "from keras.preprocessing import sequence\n",
        "from keras.models import Sequential\n",
        "from keras.layers import LSTM, Embedding, TimeDistributed, Dense, RepeatVector,\\\n",
        "                         Activation, Flatten, Reshape, concatenate, Dropout, BatchNormalization\n",
        "from keras.optimizers import Adam, RMSprop\n",
        "from keras.layers.wrappers import Bidirectional\n",
        "from keras.layers.merge import add\n",
        "from keras.applications.inception_v3 import InceptionV3\n",
        "from keras.preprocessing import image\n",
        "from keras.models import Model\n",
        "from keras import Input, layers\n",
        "from keras import optimizers\n",
        "from keras.applications.inception_v3 import preprocess_input\n",
        "from keras.preprocessing.text import Tokenizer\n",
        "from keras.preprocessing.sequence import pad_sequences\n",
        "from keras.utils import to_categorical"
      ],
      "execution_count": 2,
      "outputs": []
    },
    {
      "cell_type": "code",
      "metadata": {
        "id": "lCSpMGOilJ-A",
        "colab_type": "code",
        "colab": {}
      },
      "source": [
        "import pickle"
      ],
      "execution_count": 3,
      "outputs": []
    },
    {
      "cell_type": "code",
      "metadata": {
        "id": "GVRTgycllMVb",
        "colab_type": "code",
        "colab": {}
      },
      "source": [
        "\n",
        "def data_generator(descriptions, photos, wordtoix, max_length, num_photos_per_batch):\n",
        "    X1, X2, y = list(), list(), list()\n",
        "    n=0\n",
        "    while 1:\n",
        "        for key, desc_list in descriptions.items():\n",
        "            n+=1\n",
        "            photo = photos[key+'.jpg']\n",
        "            for desc in desc_list:\n",
        "                seq = [wordtoix[word] for word in desc.split(' ') if word in wordtoix]\n",
        "                for i in range(1, len(seq)):\n",
        "                    in_seq, out_seq = seq[:i], seq[i]\n",
        "                    in_seq = pad_sequences([in_seq], maxlen=max_length)[0]\n",
        "                    out_seq = to_categorical([out_seq], num_classes=vocab_size)[0]\n",
        "                    X1.append(photo)\n",
        "                    X2.append(in_seq)\n",
        "                    y.append(out_seq)\n",
        "            if n==num_photos_per_batch:\n",
        "                yield ([array(X1), array(X2)], array(y))\n",
        "                X1, X2, y = list(), list(), list()\n",
        "                n=0"
      ],
      "execution_count": 4,
      "outputs": []
    },
    {
      "cell_type": "code",
      "metadata": {
        "id": "VIcj0V4flUZ2",
        "colab_type": "code",
        "colab": {}
      },
      "source": [
        "train_desc = load(open(\"/content/train_desc.pkl\",\"rb\"))\n",
        "dictionary = load(open(\"/content/dictionary.pkl\",\"rb\"))\n",
        "reverse_dictionary = load(open(\"/content/dictionary_reverse.pkl\",\"rb\"))\n",
        "embedding_matrix = load(open(\"/content/embeddings.pkl\",\"rb\"))\n",
        "encoded_image = load(open(\"/content/encoded_train_images.pkl\",\"rb\"))\n",
        "encoded_test = load(open(\"/content/encoded_test_images.pkl\",\"rb\"))\n",
        "\n"
      ],
      "execution_count": 5,
      "outputs": []
    },
    {
      "cell_type": "code",
      "metadata": {
        "id": "t74DF6-no3e6",
        "colab_type": "code",
        "colab": {}
      },
      "source": [
        "vocab_size = len(dictionary) + 1"
      ],
      "execution_count": 9,
      "outputs": []
    },
    {
      "cell_type": "code",
      "metadata": {
        "id": "wasV3tykn7sp",
        "colab_type": "code",
        "colab": {}
      },
      "source": [
        "max_len = 34 \n",
        "embedding_dim = 200"
      ],
      "execution_count": 12,
      "outputs": []
    },
    {
      "cell_type": "code",
      "metadata": {
        "id": "xRM18rwgpwqR",
        "colab_type": "code",
        "colab": {}
      },
      "source": [
        "inputs1 = Input(shape=(2048,))\n",
        "fe1 = Dropout(0.5)(inputs1)\n",
        "fe2 = Dense(256,activation='relu')(fe1)\n",
        "inputs2 = Input(shape=(max_len,))\n",
        "se1 = Embedding(vocab_size,embedding_dim,mask_zero = True)(inputs2)\n",
        "se2 = Dropout(0.5)(se1)\n",
        "se3 = LSTM(256)(se2)\n",
        "decode1 = add([fe2,se3])\n",
        "decode2 = Dense(256,activation='relu')(decode1)\n",
        "output = Dense(vocab_size,activation='softmax')(decode2)\n",
        "model = Model(inputs = [inputs1,inputs2], outputs = output)"
      ],
      "execution_count": 13,
      "outputs": []
    },
    {
      "cell_type": "code",
      "metadata": {
        "id": "MKexYbgcp0cs",
        "colab_type": "code",
        "colab": {}
      },
      "source": [
        "model.compile(loss = \"categorical_crossentropy\",optimizer = 'adam')"
      ],
      "execution_count": 14,
      "outputs": []
    },
    {
      "cell_type": "code",
      "metadata": {
        "id": "L1m6AgEsqYXO",
        "colab_type": "code",
        "colab": {}
      },
      "source": [
        "epochs = 10\n",
        "number_pics_per_batch = 10\n",
        "steps = len(train_desc)//number_pics_per_batch"
      ],
      "execution_count": 22,
      "outputs": []
    },
    {
      "cell_type": "code",
      "metadata": {
        "id": "bxF3mHEPqkBB",
        "colab_type": "code",
        "colab": {
          "base_uri": "https://localhost:8080/",
          "height": 185
        },
        "outputId": "f07f8e99-28c4-4ff8-f4a7-eae560e0c343"
      },
      "source": [
        "for i in range(epochs):\n",
        "  generator = data_generator(train_desc,encoded_image,reverse_dictionary,max_len,number_pics_per_batch)\n",
        "  model.fit(generator,steps_per_epoch=steps,verbose = 1)\n",
        "  model.save(\"model_\" + str(i) + \".h5\")"
      ],
      "execution_count": 20,
      "outputs": [
        {
          "output_type": "stream",
          "text": [
            "1200/1200 [==============================] - 186s 155ms/step - loss: 3.4798\n",
            "1200/1200 [==============================] - 185s 154ms/step - loss: 3.2198\n",
            "1200/1200 [==============================] - 186s 155ms/step - loss: 3.0613\n",
            "1200/1200 [==============================] - 183s 153ms/step - loss: 2.9465\n",
            "1200/1200 [==============================] - 184s 154ms/step - loss: 2.8575\n",
            "1200/1200 [==============================] - 185s 155ms/step - loss: 2.7807\n",
            "1200/1200 [==============================] - 184s 154ms/step - loss: 2.7151\n",
            "1200/1200 [==============================] - 181s 151ms/step - loss: 2.6607\n",
            "1200/1200 [==============================] - 182s 152ms/step - loss: 2.6104\n",
            "1200/1200 [==============================] - 183s 152ms/step - loss: 2.5674\n"
          ],
          "name": "stdout"
        }
      ]
    },
    {
      "cell_type": "code",
      "metadata": {
        "id": "A5Ht4NKgrUc2",
        "colab_type": "code",
        "colab": {
          "base_uri": "https://localhost:8080/",
          "height": 185
        },
        "outputId": "b4c1af77-82aa-4fe3-d831-a2a311472e05"
      },
      "source": [
        "for i in range(epochs):\n",
        "  generator = data_generator(train_desc,encoded_image,reverse_dictionary,max_len,number_pics_per_batch)\n",
        "  model.fit(generator,steps_per_epoch=steps,verbose = 1)\n",
        "  model.save(\"model-\" + str(i) + \".h5\")"
      ],
      "execution_count": 23,
      "outputs": [
        {
          "output_type": "stream",
          "text": [
            "600/600 [==============================] - 107s 179ms/step - loss: 2.5114\n",
            "600/600 [==============================] - 106s 177ms/step - loss: 2.4750\n",
            "600/600 [==============================] - 105s 176ms/step - loss: 2.4441\n",
            "600/600 [==============================] - 105s 176ms/step - loss: 2.4196\n",
            "600/600 [==============================] - 106s 177ms/step - loss: 2.3944\n",
            "600/600 [==============================] - 104s 173ms/step - loss: 2.3698\n",
            "600/600 [==============================] - 106s 176ms/step - loss: 2.3487\n",
            "600/600 [==============================] - 106s 177ms/step - loss: 2.3290\n",
            "600/600 [==============================] - 106s 176ms/step - loss: 2.3085\n",
            "600/600 [==============================] - 107s 179ms/step - loss: 2.2851\n"
          ],
          "name": "stdout"
        }
      ]
    },
    {
      "cell_type": "code",
      "metadata": {
        "id": "oUvoNGedrVQ-",
        "colab_type": "code",
        "colab": {
          "base_uri": "https://localhost:8080/",
          "height": 34
        },
        "outputId": "ad2b3aca-9a7f-40a8-81d7-77dabb00ddb7"
      },
      "source": [
        "len(train_desc)"
      ],
      "execution_count": 21,
      "outputs": [
        {
          "output_type": "execute_result",
          "data": {
            "text/plain": [
              "6000"
            ]
          },
          "metadata": {
            "tags": []
          },
          "execution_count": 21
        }
      ]
    },
    {
      "cell_type": "code",
      "metadata": {
        "id": "TpQmJDah1U5I",
        "colab_type": "code",
        "colab": {
          "base_uri": "https://localhost:8080/",
          "height": 185
        },
        "outputId": "bff8b09c-bd12-4fcc-d1cd-e3166ab20d1f"
      },
      "source": [
        "for i in range(epochs):\n",
        "  generator = data_generator(train_desc,encoded_image,reverse_dictionary,max_len,number_pics_per_batch)\n",
        "  model.fit(generator,steps_per_epoch=steps,verbose = 1)\n",
        "  model.save(\"model|\" + str(i) + \".h5\")"
      ],
      "execution_count": 24,
      "outputs": [
        {
          "output_type": "stream",
          "text": [
            "600/600 [==============================] - 107s 178ms/step - loss: 2.2683\n",
            "600/600 [==============================] - 108s 179ms/step - loss: 2.2497\n",
            "600/600 [==============================] - 107s 179ms/step - loss: 2.2317\n",
            "600/600 [==============================] - 106s 177ms/step - loss: 2.2196\n",
            "600/600 [==============================] - 106s 177ms/step - loss: 2.2025\n",
            "600/600 [==============================] - 106s 177ms/step - loss: 2.1891\n",
            "600/600 [==============================] - 106s 176ms/step - loss: 2.1770\n",
            "600/600 [==============================] - 107s 179ms/step - loss: 2.1629\n",
            "600/600 [==============================] - 106s 177ms/step - loss: 2.1492\n",
            "600/600 [==============================] - 106s 176ms/step - loss: 2.1402\n"
          ],
          "name": "stdout"
        }
      ]
    },
    {
      "cell_type": "code",
      "metadata": {
        "id": "dLkddy9-73hN",
        "colab_type": "code",
        "colab": {}
      },
      "source": [
        ""
      ],
      "execution_count": null,
      "outputs": []
    }
  ]
}